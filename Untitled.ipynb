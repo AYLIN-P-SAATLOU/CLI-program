{
 "cells": [
  {
   "cell_type": "code",
   "execution_count": null,
   "id": "98db69ab-a662-4be8-bcb1-24758114d27b",
   "metadata": {},
   "outputs": [],
   "source": [
    "class habit:\n",
    "    def __init__(self, habit_name, days_done, streak):\n",
    "        self.habit_name = habit_name\n",
    "        self.days_done = days_done\n",
    "        self.streak = streak\n",
    "\n",
    "    def __str__(self):\n",
    "        "
   ]
  }
 ],
 "metadata": {
  "kernelspec": {
   "display_name": "Python 3 (ipykernel)",
   "language": "python",
   "name": "python3"
  },
  "language_info": {
   "codemirror_mode": {
    "name": "ipython",
    "version": 3
   },
   "file_extension": ".py",
   "mimetype": "text/x-python",
   "name": "python",
   "nbconvert_exporter": "python",
   "pygments_lexer": "ipython3",
   "version": "3.12.9"
  }
 },
 "nbformat": 4,
 "nbformat_minor": 5
}
