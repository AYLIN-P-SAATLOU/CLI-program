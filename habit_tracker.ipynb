{
 "cells": [
  {
   "cell_type": "code",
   "execution_count": null,
   "id": "af9c03ab-5771-4eec-8a83-03af3af75164",
   "metadata": {},
   "outputs": [],
   "source": [
    "from habit import Habit\n",
    "\n",
    "class HabitTracker:\n",
    "    def __init__(self):\n",
    "        self.habit: []\n",
    "\n",
    "    def add_habit(self, name):\n",
    "        if any("
   ]
  }
 ],
 "metadata": {
  "kernelspec": {
   "display_name": "Python 3 (ipykernel)",
   "language": "python",
   "name": "python3"
  },
  "language_info": {
   "codemirror_mode": {
    "name": "ipython",
    "version": 3
   },
   "file_extension": ".py",
   "mimetype": "text/x-python",
   "name": "python",
   "nbconvert_exporter": "python",
   "pygments_lexer": "ipython3",
   "version": "3.12.9"
  }
 },
 "nbformat": 4,
 "nbformat_minor": 5
}
