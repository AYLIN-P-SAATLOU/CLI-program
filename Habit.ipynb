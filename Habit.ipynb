{
 "cells": [
  {
   "cell_type": "code",
   "execution_count": null,
   "id": "98db69ab-a662-4be8-bcb1-24758114d27b",
   "metadata": {},
   "outputs": [],
   "source": [
    "class habit:\n",
    "    def __init__(self, habit_name):\n",
    "        self.habit_name = habit_name\n",
    "        self.streak = 0\n",
    "        self.completed_today = False\n",
    "\n",
    "    def mark_done(self):\n",
    "        if not self.completed_today:\n",
    "            self.strea += 1\n",
    "            self.completed_today = True\n",
    "            print(f\"Habit '{self.name}' marked as done. Streak is now {self.streak}.\")\n",
    "        else:\n",
    "            print(f\"Habit '{self.name}' is already marked as done today.\")\n",
    "\n",
    "    def reset_day(self):\n",
    "        status = \"✓\" if self.completed_today else \"✗\"\n",
    "        return f\"{self.name} - S\n",
    "        "
   ]
  }
 ],
 "metadata": {
  "kernelspec": {
   "display_name": "Python 3 (ipykernel)",
   "language": "python",
   "name": "python3"
  },
  "language_info": {
   "codemirror_mode": {
    "name": "ipython",
    "version": 3
   },
   "file_extension": ".py",
   "mimetype": "text/x-python",
   "name": "python",
   "nbconvert_exporter": "python",
   "pygments_lexer": "ipython3",
   "version": "3.12.9"
  }
 },
 "nbformat": 4,
 "nbformat_minor": 5
}
